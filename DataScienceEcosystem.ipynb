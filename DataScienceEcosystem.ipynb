{
 "cells": [
  {
   "cell_type": "markdown",
   "id": "c31c4d00-1b69-4f63-8636-4377575a8822",
   "metadata": {},
   "source": [
    "# Data Science Tools and Ecosystem"
   ]
  },
  {
   "cell_type": "markdown",
   "id": "c39499dc-a8dd-48d0-ad1d-46f50e409bba",
   "metadata": {},
   "source": [
    "##### In this notebook, Data Tools and Ecosystem are summarized."
   ]
  },
  {
   "cell_type": "markdown",
   "id": "a825866d-83e0-41da-85f6-cbeb446dc95a",
   "metadata": {},
   "source": [
    "##### Some of the popular language that data data science use are:\n",
    "1. Python\n",
    "2. R\n",
    "3. C++"
   ]
  },
  {
   "cell_type": "markdown",
   "id": "8d2e8635-ebed-486e-a7b9-1bdb91f37f5c",
   "metadata": {},
   "source": [
    "##### Some of the commonly used libraries used by Data Scientists include:\n",
    "1. NumPy\n",
    "2. Pandas\n",
    "3. ggplot"
   ]
  },
  {
   "cell_type": "markdown",
   "id": "5c028dec-d12e-4b16-a2e0-4e17e03a9b9a",
   "metadata": {},
   "source": [
    "|Data Science Tools|\n",
    "|---|\n",
    "|Jupyter Notebook|\n",
    "|RStudio|\n",
    "|VS Code|"
   ]
  },
  {
   "cell_type": "markdown",
   "id": "4856d891-a02c-450c-8901-7fe47f1b5d6f",
   "metadata": {},
   "source": [
    "### Below are a few examples of evaluating arithmetic expressions in Python"
   ]
  },
  {
   "cell_type": "markdown",
   "id": "1dc723fe-42c2-4ded-afbe-89ca51067a9b",
   "metadata": {},
   "source": [
    "##### This a simple arithmetic expression to mutiply then add integers"
   ]
  },
  {
   "cell_type": "code",
   "execution_count": null,
   "id": "145c6e75-2c8b-423d-b786-a8241c128a84",
   "metadata": {},
   "outputs": [],
   "source": [
    "(3*4)+5"
   ]
  },
  {
   "cell_type": "markdown",
   "id": "5673a721-8b67-4b3c-8689-c328c62de147",
   "metadata": {},
   "source": [
    "##### This will convert 200 minutes to hours by diving by 60"
   ]
  },
  {
   "cell_type": "code",
   "execution_count": null,
   "id": "44b6e60c-2d04-4d3f-9935-fbe7a1407cde",
   "metadata": {},
   "outputs": [],
   "source": [
    "200/60"
   ]
  },
  {
   "cell_type": "markdown",
   "id": "09c606c2-9409-435c-a943-98b686cb50b4",
   "metadata": {},
   "source": [
    "__Objectives:__\n",
    "- List of popular languages for data science\n",
    "- List of commonly used library by Data Scientists\n",
    "- List of data science tools\n",
    "- Simple arithmethic expression to mutiply then add integer\n",
    "- Convert minutes to hours by dividing"
   ]
  },
  {
   "cell_type": "markdown",
   "id": "220eb703-48ee-4505-91ac-ac0e5e89fc3b",
   "metadata": {},
   "source": [
    "## Author\n",
    "##### Nisa Maisara"
   ]
  }
 ],
 "metadata": {
  "kernelspec": {
   "display_name": "Python 3 (ipykernel)",
   "language": "python",
   "name": "python3"
  },
  "language_info": {
   "codemirror_mode": {
    "name": "ipython",
    "version": 3
   },
   "file_extension": ".py",
   "mimetype": "text/x-python",
   "name": "python",
   "nbconvert_exporter": "python",
   "pygments_lexer": "ipython3",
   "version": "3.13.5"
  }
 },
 "nbformat": 4,
 "nbformat_minor": 5
}
